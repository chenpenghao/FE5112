{
  "nbformat": 4,
  "nbformat_minor": 0,
  "metadata": {
    "colab": {
      "name": "FE5112.ipynb",
      "provenance": [],
      "collapsed_sections": [],
      "include_colab_link": true
    },
    "kernelspec": {
      "name": "python3",
      "display_name": "Python 3"
    }
  },
  "cells": [
    {
      "cell_type": "markdown",
      "metadata": {
        "id": "view-in-github",
        "colab_type": "text"
      },
      "source": [
        "<a href=\"https://colab.research.google.com/github/chenpenghao/FE5112/blob/main/FE5112.ipynb\" target=\"_parent\"><img src=\"https://colab.research.google.com/assets/colab-badge.svg\" alt=\"Open In Colab\"/></a>"
      ]
    },
    {
      "cell_type": "markdown",
      "metadata": {
        "id": "xoEo_BE0fuOd"
      },
      "source": [
        "Python Environment Setup"
      ]
    },
    {
      "cell_type": "code",
      "metadata": {
        "id": "0x4pPNkEeotq"
      },
      "source": [
        "#@title\n",
        "import os, sys\n",
        "from google.colab import drive\n",
        "drive.mount('/content/mnt')\n",
        "nb_path = '/content/notebooks'\n",
        "os.symlink('/content/mnt/My Drive/Colab Notebooks', nb_path)\n",
        "sys.path.insert(0, nb_path)"
      ],
      "execution_count": null,
      "outputs": []
    },
    {
      "cell_type": "code",
      "metadata": {
        "id": "u2ZdCk1ff97u"
      },
      "source": [
        "#@title\n",
        "!pip install --target=$nb_path pandas"
      ],
      "execution_count": null,
      "outputs": []
    },
    {
      "cell_type": "markdown",
      "metadata": {
        "id": "ugZi4K1SgLtA"
      },
      "source": [
        "**Market:**\n",
        "\n",
        "The market is complete and arbitrage free. The risk free interest rate is 8%. The price of a non-dividend-paying stock $S_t$ at time t is governed by the fllowing SDE under the risk neutral probability measure $\\mathbb{Q}$ :\n",
        "\\begin{align}\n",
        "d{S_t} &= 0.08 \\times S_t{dt} + \\sigma(S_t) \\times S_t{dW_t}\\\\\n",
        "S_0 &= 100\n",
        "\\end{align}\n",
        "\n",
        "where $W_t$ is a Brownian motion under $\\mathbb{Q}$ and $\\sigma(\\cdot)$ is a function given as follows:\n",
        "\\begin{equation}\n",
        "  \\sigma(x) = \\begin{cases}\n",
        "    0.25 + 0.02 \\times ( 1.0 - \\frac{x}{S_0}), \\text{ for } x \\leq 100;\\\\\n",
        "    max(0.001, 0.25-0.01 \\times (\\frac{x}{S_0} - 1)), \\text{ for } x > 100\n",
        "  \\end{cases}\n",
        "\\end{equation}\n",
        "\n",
        "\n",
        "\n"
      ]
    },
    {
      "cell_type": "code",
      "metadata": {
        "id": "yQLxDHW4e2zT",
        "outputId": "13a6eb54-b53c-4ff9-821d-876d89a4b33d",
        "colab": {
          "base_uri": "https://localhost:8080/"
        }
      },
      "source": [
        "# market specific\n",
        "import math\n",
        "import random\n",
        "from numpy import array\n",
        "\n",
        "T = 2     # duration in years\n",
        "L = 730   # number of time intervals\n",
        "M = 100   # number of asset paths\n",
        "rf = 0.08 # risk free rate\n",
        "S0 = 100.0  # Beginning stock price\n",
        "dt = T/L  # time discretization\n",
        "\n",
        "discf = math.exp(-rf*dt) \n",
        "\n",
        "def _sig(x, s0):\n",
        "  if x <= 100:\n",
        "    return 0.25 + 0.02 * (1.0 - x/s0)\n",
        "  else:\n",
        "    return max(0.001, 0.25-0.01*(x/s0 - 1))\n",
        "\n",
        "def sig(x):\n",
        "  return _sig(x, S0)\n",
        "\n",
        "S = [[S0 for i in range(M)] for j in range(L+1)] \n",
        "for i in range(len(S)):\n",
        "  for j in range(1, len(S[i])):\n",
        "    dS = rf * S[i][j-1] * dt + sig(S[i][j-1])*S[i][j-1]*math.sqrt(dt)*random.gauss(0,1)\n",
        "    S[i][j] = S[i][j-1] + dS\n",
        "\n",
        "S = array(S)\n",
        "print(S)\n",
        "\n",
        "\n",
        "\n",
        "\n"
      ],
      "execution_count": null,
      "outputs": [
        {
          "output_type": "stream",
          "text": [
            "[[100.         100.11007628 100.7034864  ... 105.11688326 104.60985067\n",
            "  105.01031604]\n",
            " [100.         100.99163476 100.36756995 ...  92.03470017  91.47815514\n",
            "   91.00016867]\n",
            " [100.         101.07426129 103.96895888 ...  72.94490938  72.58979175\n",
            "   72.2206893 ]\n",
            " ...\n",
            " [100.         100.63305723 100.8182419  ... 121.03364008 121.80246793\n",
            "  120.73432199]\n",
            " [100.          98.50485193  98.32193434 ... 122.03342314 118.03534362\n",
            "  118.91618196]\n",
            " [100.         100.28653446 100.80230002 ... 120.84279443 118.33629764\n",
            "  119.73581341]]\n"
          ],
          "name": "stdout"
        }
      ]
    },
    {
      "cell_type": "markdown",
      "metadata": {
        "id": "yKgnjPOjiy7m"
      },
      "source": [
        "**Option to Price**\n",
        "\n",
        "It is a one-year-non-exercise American Asian put option with the strike price $K=108$ and the maturity $T=2$(years). The potion is not exercisable in the first year. The option is exercisable once and only once in the second year. If the option is exercised on day $n, 366 \\leq n \\leq 730$, the option buyer will receive a payout of $(K - A_n)^{+}$ where\n",
        "$$A_n = \\frac{1}{60}\\sum^{-1}_{i=-60}S_{\\frac{n+i}{365}}$$"
      ]
    },
    {
      "cell_type": "code",
      "metadata": {
        "id": "EkLnbZmop7gd"
      },
      "source": [
        "# Asset related\n",
        "\n",
        "K = 108\n",
        "def aaOption (S, dayEx):\n",
        "  if dayEx < 365:\n",
        "    return -1\n",
        "  else:\n",
        "    for i in range(len(S)):\n",
        "      sPrices = S[i][dayEx-60:dayEx]\n",
        "    "
      ],
      "execution_count": null,
      "outputs": []
    }
  ]
}